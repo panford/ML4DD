{
  "nbformat": 4,
  "nbformat_minor": 0,
  "metadata": {
    "colab": {
      "name": "Notebook_2.ipynb",
      "provenance": [],
      "machine_shape": "hm",
      "include_colab_link": true
    },
    "kernelspec": {
      "name": "python3",
      "display_name": "Python 3"
    },
    "language_info": {
      "name": "python"
    },
    "accelerator": "GPU"
  },
  "cells": [
    {
      "cell_type": "markdown",
      "metadata": {
        "id": "view-in-github",
        "colab_type": "text"
      },
      "source": [
        "<a href=\"https://colab.research.google.com/github/panford/ML4DD/blob/main/Notebook_2.ipynb\" target=\"_parent\"><img src=\"https://colab.research.google.com/assets/colab-badge.svg\" alt=\"Open In Colab\"/></a>"
      ]
    },
    {
      "cell_type": "markdown",
      "metadata": {
        "id": "NkNDzYZyEQ2Y"
      },
      "source": [
        "# Generative Models for Molecule Generation"
      ]
    },
    {
      "cell_type": "markdown",
      "metadata": {
        "id": "dbxXuu_oMhRX"
      },
      "source": [
        "**Author**: Kobby Panford-Quainoo (panford.github.io)\n",
        "\n",
        "**Institution:** African Institute for Mathematical Sciences\n",
        "\n",
        "**Workshop:** International E-workshop on Machine Learning for Drug Discovery, India (05/21)\n"
      ]
    },
    {
      "cell_type": "markdown",
      "metadata": {
        "id": "bPbswxV-rM0C"
      },
      "source": [
        "In this tutorial, we will look at how to generate molecules from the SMILES dataset using Adversarial Autoencoders (AAEs). "
      ]
    },
    {
      "cell_type": "code",
      "metadata": {
        "colab": {
          "base_uri": "https://localhost:8080/"
        },
        "id": "7HCDLVxByFhJ",
        "outputId": "9949c3ea-c5c3-4597-bd55-33f09c208545"
      },
      "source": [
        "#@title Install condalab: We need to install condalab in order to install RDKits with Anaconda, Run this cell and wait for kernel to restart before running the next cells\n",
        "!pip install -q condacolab\n",
        "\n",
        "import condacolab\n",
        "condacolab.install()\n",
        "\n",
        "!conda install -q rdkit  #Install RDKits\n"
      ],
      "execution_count": null,
      "outputs": [
        {
          "output_type": "stream",
          "text": [
            "⏬ Downloading https://github.com/jaimergp/miniforge/releases/latest/download/Mambaforge-colab-Linux-x86_64.sh...\n",
            "📦 Installing...\n",
            "📌 Adjusting configuration...\n",
            "🩹 Patching environment...\n",
            "⏲ Done in 0:00:22\n",
            "🔁 Restarting kernel...\n",
            "Collecting package metadata (current_repodata.json): ...working... done\n",
            "Solving environment: ...working... done\n",
            "\n",
            "## Package Plan ##\n",
            "\n",
            "  environment location: /usr/local\n",
            "\n",
            "  added / updated specs:\n",
            "    - rdkit\n",
            "\n",
            "\n",
            "The following packages will be downloaded:\n",
            "\n",
            "    package                    |            build\n",
            "    ---------------------------|-----------------\n",
            "    boost-1.74.0               |   py37h6dcda5c_3         342 KB  conda-forge\n",
            "    boost-cpp-1.74.0           |       hc6e9bd1_3        16.3 MB  conda-forge\n",
            "    cairo-1.16.0               |    h6cf1ce9_1008         1.5 MB  conda-forge\n",
            "    conda-4.10.1               |   py37h89c1867_0         3.1 MB  conda-forge\n",
            "    cycler-0.10.0              |             py_2           9 KB  conda-forge\n",
            "    fontconfig-2.13.1          |    hba837de_1005         357 KB  conda-forge\n",
            "    freetype-2.10.4            |       h0708190_1         890 KB  conda-forge\n",
            "    gettext-0.19.8.1           |    h0b5b191_1005         3.6 MB  conda-forge\n",
            "    greenlet-1.1.0             |   py37hcd2ae1e_0          83 KB  conda-forge\n",
            "    importlib-metadata-4.2.0   |   py37h89c1867_0          30 KB  conda-forge\n",
            "    jpeg-9d                    |       h36c2ea0_0         264 KB  conda-forge\n",
            "    kiwisolver-1.3.1           |   py37h2527ec5_1          78 KB  conda-forge\n",
            "    libblas-3.9.0              |       9_openblas          11 KB  conda-forge\n",
            "    libcblas-3.9.0             |       9_openblas          11 KB  conda-forge\n",
            "    libgfortran-ng-9.3.0       |      hff62375_19          22 KB  conda-forge\n",
            "    libgfortran5-9.3.0         |      hff62375_19         2.0 MB  conda-forge\n",
            "    libglib-2.68.2             |       h3e27bee_0         3.1 MB  conda-forge\n",
            "    liblapack-3.9.0            |       9_openblas          11 KB  conda-forge\n",
            "    libopenblas-0.3.15         |pthreads_h8fe5266_1         9.2 MB  conda-forge\n",
            "    libpng-1.6.37              |       h21135ba_2         306 KB  conda-forge\n",
            "    libtiff-4.0.10             |    hc3755c2_1005         602 KB  conda-forge\n",
            "    libuuid-2.32.1             |    h7f98852_1000          28 KB  conda-forge\n",
            "    libxcb-1.13                |    h7f98852_1003         395 KB  conda-forge\n",
            "    matplotlib-base-3.4.2      |   py37hdd32ed1_0         7.2 MB  conda-forge\n",
            "    numpy-1.20.3               |   py37h038b26d_1         5.7 MB  conda-forge\n",
            "    olefile-0.46               |     pyh9f0ad1d_1          32 KB  conda-forge\n",
            "    openssl-1.1.1k             |       h7f98852_0         2.1 MB  conda-forge\n",
            "    pandas-1.2.4               |   py37h219a48f_0        11.8 MB  conda-forge\n",
            "    pcre-8.44                  |       he1b5a44_0         261 KB  conda-forge\n",
            "    pillow-6.2.1               |   py37h6b7be26_0         637 KB  conda-forge\n",
            "    pixman-0.40.0              |       h36c2ea0_0         627 KB  conda-forge\n",
            "    pthread-stubs-0.4          |    h36c2ea0_1001           5 KB  conda-forge\n",
            "    pycairo-1.20.0             |   py37hfff247e_1          77 KB  conda-forge\n",
            "    pyparsing-2.4.7            |     pyh9f0ad1d_0          60 KB  conda-forge\n",
            "    python-dateutil-2.8.1      |             py_0         220 KB  conda-forge\n",
            "    pytz-2021.1                |     pyhd8ed1ab_0         239 KB  conda-forge\n",
            "    rdkit-2021.03.2            |   py37haf5a968_0        38.3 MB  conda-forge\n",
            "    reportlab-3.5.67           |   py37h69800bb_0         2.4 MB  conda-forge\n",
            "    sqlalchemy-1.4.15          |   py37h5e8e339_0         2.2 MB  conda-forge\n",
            "    tornado-6.1                |   py37h5e8e339_1         646 KB  conda-forge\n",
            "    typing_extensions-3.7.4.3  |             py_0          25 KB  conda-forge\n",
            "    xorg-kbproto-1.0.7         |    h7f98852_1002          27 KB  conda-forge\n",
            "    xorg-libice-1.0.10         |       h7f98852_0          58 KB  conda-forge\n",
            "    xorg-libsm-1.2.3           |    hd9c2040_1000          26 KB  conda-forge\n",
            "    xorg-libx11-1.7.1          |       h7f98852_0         946 KB  conda-forge\n",
            "    xorg-libxau-1.0.9          |       h7f98852_0          13 KB  conda-forge\n",
            "    xorg-libxdmcp-1.1.3        |       h7f98852_0          19 KB  conda-forge\n",
            "    xorg-libxext-1.3.4         |       h7f98852_1          54 KB  conda-forge\n",
            "    xorg-libxrender-0.9.10     |    h7f98852_1003          32 KB  conda-forge\n",
            "    xorg-renderproto-0.11.1    |    h7f98852_1002           9 KB  conda-forge\n",
            "    xorg-xextproto-7.3.0       |    h7f98852_1002          28 KB  conda-forge\n",
            "    xorg-xproto-7.0.31         |    h7f98852_1007          73 KB  conda-forge\n",
            "    zipp-3.4.1                 |     pyhd8ed1ab_0          11 KB  conda-forge\n",
            "    ------------------------------------------------------------\n",
            "                                           Total:       115.8 MB\n",
            "\n",
            "The following NEW packages will be INSTALLED:\n",
            "\n",
            "  boost              conda-forge/linux-64::boost-1.74.0-py37h6dcda5c_3\n",
            "  boost-cpp          conda-forge/linux-64::boost-cpp-1.74.0-hc6e9bd1_3\n",
            "  cairo              conda-forge/linux-64::cairo-1.16.0-h6cf1ce9_1008\n",
            "  cycler             conda-forge/noarch::cycler-0.10.0-py_2\n",
            "  fontconfig         conda-forge/linux-64::fontconfig-2.13.1-hba837de_1005\n",
            "  freetype           conda-forge/linux-64::freetype-2.10.4-h0708190_1\n",
            "  gettext            conda-forge/linux-64::gettext-0.19.8.1-h0b5b191_1005\n",
            "  greenlet           conda-forge/linux-64::greenlet-1.1.0-py37hcd2ae1e_0\n",
            "  importlib-metadata conda-forge/linux-64::importlib-metadata-4.2.0-py37h89c1867_0\n",
            "  jpeg               conda-forge/linux-64::jpeg-9d-h36c2ea0_0\n",
            "  kiwisolver         conda-forge/linux-64::kiwisolver-1.3.1-py37h2527ec5_1\n",
            "  libblas            conda-forge/linux-64::libblas-3.9.0-9_openblas\n",
            "  libcblas           conda-forge/linux-64::libcblas-3.9.0-9_openblas\n",
            "  libgfortran-ng     conda-forge/linux-64::libgfortran-ng-9.3.0-hff62375_19\n",
            "  libgfortran5       conda-forge/linux-64::libgfortran5-9.3.0-hff62375_19\n",
            "  libglib            conda-forge/linux-64::libglib-2.68.2-h3e27bee_0\n",
            "  liblapack          conda-forge/linux-64::liblapack-3.9.0-9_openblas\n",
            "  libopenblas        conda-forge/linux-64::libopenblas-0.3.15-pthreads_h8fe5266_1\n",
            "  libpng             conda-forge/linux-64::libpng-1.6.37-h21135ba_2\n",
            "  libtiff            conda-forge/linux-64::libtiff-4.0.10-hc3755c2_1005\n",
            "  libuuid            conda-forge/linux-64::libuuid-2.32.1-h7f98852_1000\n",
            "  libxcb             conda-forge/linux-64::libxcb-1.13-h7f98852_1003\n",
            "  matplotlib-base    conda-forge/linux-64::matplotlib-base-3.4.2-py37hdd32ed1_0\n",
            "  numpy              conda-forge/linux-64::numpy-1.20.3-py37h038b26d_1\n",
            "  olefile            conda-forge/noarch::olefile-0.46-pyh9f0ad1d_1\n",
            "  pandas             conda-forge/linux-64::pandas-1.2.4-py37h219a48f_0\n",
            "  pcre               conda-forge/linux-64::pcre-8.44-he1b5a44_0\n",
            "  pillow             conda-forge/linux-64::pillow-6.2.1-py37h6b7be26_0\n",
            "  pixman             conda-forge/linux-64::pixman-0.40.0-h36c2ea0_0\n",
            "  pthread-stubs      conda-forge/linux-64::pthread-stubs-0.4-h36c2ea0_1001\n",
            "  pycairo            conda-forge/linux-64::pycairo-1.20.0-py37hfff247e_1\n",
            "  pyparsing          conda-forge/noarch::pyparsing-2.4.7-pyh9f0ad1d_0\n",
            "  python-dateutil    conda-forge/noarch::python-dateutil-2.8.1-py_0\n",
            "  pytz               conda-forge/noarch::pytz-2021.1-pyhd8ed1ab_0\n",
            "  rdkit              conda-forge/linux-64::rdkit-2021.03.2-py37haf5a968_0\n",
            "  reportlab          conda-forge/linux-64::reportlab-3.5.67-py37h69800bb_0\n",
            "  sqlalchemy         conda-forge/linux-64::sqlalchemy-1.4.15-py37h5e8e339_0\n",
            "  tornado            conda-forge/linux-64::tornado-6.1-py37h5e8e339_1\n",
            "  typing_extensions  conda-forge/noarch::typing_extensions-3.7.4.3-py_0\n",
            "  xorg-kbproto       conda-forge/linux-64::xorg-kbproto-1.0.7-h7f98852_1002\n",
            "  xorg-libice        conda-forge/linux-64::xorg-libice-1.0.10-h7f98852_0\n",
            "  xorg-libsm         conda-forge/linux-64::xorg-libsm-1.2.3-hd9c2040_1000\n",
            "  xorg-libx11        conda-forge/linux-64::xorg-libx11-1.7.1-h7f98852_0\n",
            "  xorg-libxau        conda-forge/linux-64::xorg-libxau-1.0.9-h7f98852_0\n",
            "  xorg-libxdmcp      conda-forge/linux-64::xorg-libxdmcp-1.1.3-h7f98852_0\n",
            "  xorg-libxext       conda-forge/linux-64::xorg-libxext-1.3.4-h7f98852_1\n",
            "  xorg-libxrender    conda-forge/linux-64::xorg-libxrender-0.9.10-h7f98852_1003\n",
            "  xorg-renderproto   conda-forge/linux-64::xorg-renderproto-0.11.1-h7f98852_1002\n",
            "  xorg-xextproto     conda-forge/linux-64::xorg-xextproto-7.3.0-h7f98852_1002\n",
            "  xorg-xproto        conda-forge/linux-64::xorg-xproto-7.0.31-h7f98852_1007\n",
            "  zipp               conda-forge/noarch::zipp-3.4.1-pyhd8ed1ab_0\n",
            "\n",
            "The following packages will be UPDATED:\n",
            "\n",
            "  conda                                4.9.2-py37h89c1867_0 --> 4.10.1-py37h89c1867_0\n",
            "  openssl                                 1.1.1j-h7f98852_0 --> 1.1.1k-h7f98852_0\n",
            "\n",
            "\n",
            "Preparing transaction: ...working... done\n",
            "Verifying transaction: ...working... done\n",
            "Executing transaction: ...working... "
          ],
          "name": "stdout"
        }
      ]
    },
    {
      "cell_type": "code",
      "metadata": {
        "id": "sLfRRpxPyJhP"
      },
      "source": [
        "# Imports\n",
        "import numpy as np \n",
        "import pandas as pd\n",
        "from rdkit import Chem\n",
        "import tensorflow as tf\n",
        "from tensorflow.keras.utils import plot_model\n",
        "from tensorflow.keras import Model\n",
        "from rdkit.Chem import Descriptors, QED\n",
        "from tensorflow.keras.models import Sequential\n",
        "from tensorflow.keras.backend import random_normal\n",
        "from tensorflow.keras.preprocessing.text import Tokenizer\n",
        "from tensorflow.keras.preprocessing.sequence import pad_sequences\n",
        "from tensorflow.keras.layers import Lambda, Input, RepeatVector, LSTM, LeakyReLU, Dropout\n",
        "from tensorflow.keras.layers import Embedding, Dense, Bidirectional, Concatenate, TimeDistributed\n",
        "\n",
        "tf.random.set_seed(5)"
      ],
      "execution_count": null,
      "outputs": []
    },
    {
      "cell_type": "code",
      "metadata": {
        "id": "4ffTVdiojDlX"
      },
      "source": [
        "!git clone https://github.com/panford/ML4DD.git"
      ],
      "execution_count": null,
      "outputs": []
    },
    {
      "cell_type": "code",
      "metadata": {
        "id": "KzQPjVECyJe-",
        "cellView": "form"
      },
      "source": [
        "#@title Define utility functions for smiles computation here\n",
        "def compute_smile_prop(smile):\n",
        "\n",
        "  \"\"\" \n",
        "  Compute smiles properties (MolWt, LogP, QED)\n",
        "\n",
        "  Inputs:\n",
        "    smile (str, list, tuple) : A sequence or list of sequences of smiles \n",
        "                                data whose properties needs to be computed\n",
        "  Output:\n",
        "    props (list)  :   Computed properties\n",
        "  \n",
        "  \"\"\"\n",
        "\n",
        "  def compute_for_one(smi):\n",
        "\n",
        "    \"\"\"\n",
        "    Computes properties for a single smile sequence\n",
        "\n",
        "    Inputs \n",
        "      smi (str) : A sequence of smile characters\n",
        "    Outputs\n",
        "      prop (list): Computed properties, \"Not exist\" if properties cannot be computed\n",
        "    \"\"\"\n",
        "\n",
        "    try:\n",
        "        mol=Chem.MolFromSmiles(smi) \n",
        "        prop = [Descriptors.ExactMolWt(mol), Descriptors.MolLogP(mol), QED.qed(mol)]\n",
        "    except:\n",
        "        prop = 'Not exist!'\n",
        "    return prop\n",
        "\n",
        "      \n",
        "  if isinstance(smile, (list, tuple)):\n",
        "    all_list = []\n",
        "    for s in list(smile):\n",
        "      all_list.append(compute_for_one(s))\n",
        "    props = all_list\n",
        "\n",
        "  elif isinstance(smile, str):\n",
        "    props = compute_for_one(smile) \n",
        "  else:\n",
        "    print(f\"Input must be a string or list, Instead got {type(smile)}\")\n",
        "    \n",
        "  return props\n",
        "\n",
        "def canonicalize(smile):\n",
        "  \"\"\"Function to canonicalise smiles inputs sequence\"\"\"\n",
        "\n",
        "  return Chem.MolToSmiles(Chem.MolFromSmiles(smile))"
      ],
      "execution_count": null,
      "outputs": []
    },
    {
      "cell_type": "code",
      "metadata": {
        "id": "2BR-OC1MHsS1",
        "cellView": "form"
      },
      "source": [
        "#@title Utility functions for decoding numerical sequences and generation\n",
        "def greedy_search():\n",
        "  \"\"\"\n",
        "  A decoder algorithm to retrieve sequences from decoder output\n",
        "\n",
        "  Inputs\n",
        "    inputs (tf-tensor): Output from decoder, size (batch, max_seq_len, num_chars)\n",
        "  \n",
        "  Outputs\n",
        "    seq of greedily decoded sequences\n",
        "  \"\"\"\n",
        "  def decode(preds):\n",
        "    return np.argmax(preds).tolist()\n",
        "\n",
        "  return decode\n",
        "\n",
        "\n",
        "\n",
        "def temperature_sampling():\n",
        "  \"\"\"\n",
        "  Temperature sampling wrapper function\n",
        "\n",
        "  This wrapper function will allow us use the temperature sampling strategy to decode our predicted sequences\n",
        "  \"\"\"\n",
        "  def softmax(z):\n",
        "    \"\"\"Softmax function \"\"\"\n",
        "    return np.exp(z)/sum(np.exp(z))\n",
        "\n",
        "  def decode(preds, temperature):\n",
        "\n",
        "    \"\"\" \n",
        "    Decoder using temperature \n",
        "    \"\"\"\n",
        "\n",
        "    preds = np.asarray(preds).astype(\"float64\")\n",
        "    preds = np.log(preds) / temperature\n",
        "    reweighted_preds = softmax(preds)\n",
        "    probs = np.random.multinomial(1, reweighted_preds, 1)\n",
        "\n",
        "    return np.argmax(probs)\n",
        "\n",
        "  return decode\n",
        "\n",
        "\n",
        "\n",
        "def decode_preds(preds, d_strategy=\"temp\", **decoder_params):\n",
        "\n",
        "  \"\"\"Decoding function: call this with decoder prediction\n",
        "  Inputs\n",
        "    preds (batch_size, max_seq_len, num_chars): softmax prediction from decoder model\n",
        "    d_strategy (str):      Strategy to use for prediction\n",
        "  \"\"\"\n",
        "\n",
        "  \n",
        "  if d_strategy == \"temp\":\n",
        "    strategy = temperature_sampling()\n",
        "    temperature = decoder_params.get('temperature') or 0.5\n",
        "    print('Decoding strategy: ', \"Temperature Sampling (%s) \"%temperature)\n",
        "\n",
        "  elif d_strategy == 'greedy':\n",
        "    strategy = greedy_search()\n",
        "    print('Decoding strategy: ', \"Greedy Search\")\n",
        "  print(\"*\"*8)\n",
        "\n",
        "  seqs = []\n",
        "  for n in range(preds.shape[0]):\n",
        "    batch = []\n",
        "    for l in range(preds.shape[1]):\n",
        "      batch.append(strategy(preds[n,l,:], temperature=temperature))\n",
        "    seqs.append(batch)\n",
        "  decoded_seq = tokenizer.sequences_to_texts(unpad(list(seqs)))\n",
        "  seq = [s.replace(\" \",\"\") for s in decoded_seq]\n",
        "\n",
        "  return seq\n",
        "\n",
        "\n",
        "def generate_smiles_from_prior(model, prior, decoding_strategy = \"temp\", **decoder_params):\n",
        "  \n",
        "  \"\"\"\n",
        "  Generates smiles samples from prior\n",
        "\n",
        "  Inputs\n",
        "    batch_size: Batch size of samples to generate\n",
        "    latent_dim: Latent dimension \n",
        "\n",
        "  outputs\n",
        "    decoded_seq: Decoded sequence\n",
        "\n",
        "  \"\"\"\n",
        "\n",
        "  predicted_seq = model.predict(prior)\n",
        "\n",
        "  return decode_preds(predicted_seq, decoding_strategy, **decoder_params)\n",
        "\n",
        "\n",
        "def unpad(input_tokens):\n",
        "  \"\"\"Function for unpadding tokens\n",
        "  Inputs\n",
        "    input_tokens  : list of input tokens\n",
        "  Outputs\n",
        "    unpadded tokens (list)\n",
        "  \"\"\"\n",
        "\n",
        "  unpadded = []\n",
        "  for i in range(len(input_tokens)):\n",
        "    unpadded_list = [token for token in input_tokens[i] if token !=0]\n",
        "    unpadded.append(unpadded_list)\n",
        "\n",
        "  return unpadded\n",
        "\n",
        "\n",
        "def generate_random_smiles(model, batch_size, latent_dim, decoding_strategy, **decoder_params):\n",
        "  \n",
        "  \"\"\"\n",
        "  Generates smiles samples from random normal samples\n",
        "\n",
        "  Inputs\n",
        "    batch_size: Batch size of samples to generate\n",
        "    latent_dim: Latent dimension \n",
        "    model     : model to predict from prior\n",
        "\n",
        "  outputs\n",
        "    decoded_seq: Decoded sequence\n",
        "\n",
        "  \"\"\"\n",
        "\n",
        "  prior = tf.random.normal(shape=[batch_size, latent_dim],)\n",
        "\n",
        "  return generate_smiles_from_prior(model, prior, decoding_strategy, **decoder_params)"
      ],
      "execution_count": null,
      "outputs": []
    },
    {
      "cell_type": "code",
      "metadata": {
        "id": "2_zbzBk8yJaS"
      },
      "source": [
        "#Lets get the data path\n",
        "path_to_data = \"/content/ML4DD/data/smiles.txt\""
      ],
      "execution_count": null,
      "outputs": []
    },
    {
      "cell_type": "code",
      "metadata": {
        "id": "NtRBx1EwyJX-"
      },
      "source": [
        "# Load up data from path\n",
        "\n",
        "smiles_data = pd.read_csv(path_to_data, header = None)\n",
        "smiles_data = smiles_data[0][:2000] # THis is very huge so select the amount of data you can work with effectively"
      ],
      "execution_count": null,
      "outputs": []
    },
    {
      "cell_type": "code",
      "metadata": {
        "colab": {
          "base_uri": "https://localhost:8080/"
        },
        "id": "BXwoIAI0fquW",
        "outputId": "8064c0ac-f746-4eb9-df20-7e52badb373f"
      },
      "source": [
        "compute_smile_prop(smiles_data[:5].tolist()) # Compute properties for the first 5 datapoints"
      ],
      "execution_count": null,
      "outputs": [
        {
          "output_type": "execute_result",
          "data": {
            "text/plain": [
              "[[217.05063234791, 0.1348999999999997, 0.7060511028948301],\n",
              " [289.07726434, 2.0300999999999996, 0.6535741974690973],\n",
              " [281.08341234000005, 1.6806999999999999, 0.8968983095288725],\n",
              " [281.08341234000005, 1.6806999999999999, 0.8968983095288725],\n",
              " [212.098334132, 1.3038, 0.5630097133159685]]"
            ]
          },
          "metadata": {
            "tags": []
          },
          "execution_count": 7
        }
      ]
    },
    {
      "cell_type": "code",
      "metadata": {
        "colab": {
          "base_uri": "https://localhost:8080/"
        },
        "id": "dyFGJURO6Qc4",
        "outputId": "202150f8-4e45-49cb-81ed-f7b65a59ecc7"
      },
      "source": [
        "smiles_data.head()"
      ],
      "execution_count": null,
      "outputs": [
        {
          "output_type": "execute_result",
          "data": {
            "text/plain": [
              "0            C[C@@]1(C(=O)C=C(O1)C(=O)[O-])c2ccccc2\n",
              "1             c1ccc(cc1)C(c2ccccc2)[S@](=O)CC(=O)NO\n",
              "2    CCC[S@](=O)c1ccc2c(c1)[nH]/c(=N\\C(=O)OC)/[nH]2\n",
              "3    CCC[S@](=O)c1ccc2c(c1)[nH]/c(=N/C(=O)OC)/[nH]2\n",
              "4                  CC(C)C[C@@H]1C(=O)N(C(=S)N1)CC=C\n",
              "Name: 0, dtype: object"
            ]
          },
          "metadata": {
            "tags": []
          },
          "execution_count": 8
        }
      ]
    },
    {
      "cell_type": "markdown",
      "metadata": {
        "id": "hDlSda4PsJ5w"
      },
      "source": [
        "\n",
        "\n",
        "---\n",
        "\n",
        "\n",
        "Since we are using data represented as SMILES strings, we can use some natual language processing techniques. We'll tokenize the characters which basically means selecting the set of unique characters in the entire dataset. Also in order to make up for the difference in lengths, we'll find the maximum sequence lengths and pad with zeros to the max sequence length. \n",
        "\n",
        "\n",
        "---\n",
        "\n",
        "\n",
        "\n",
        "\n"
      ]
    },
    {
      "cell_type": "code",
      "metadata": {
        "id": "0ojr7liayJVy"
      },
      "source": [
        "# Create a tokenizer to tokenize the characters in the smiles dataset\n",
        "\n",
        "tokenizer = Tokenizer(filters=None,\n",
        "                      lower=False,\n",
        "                      char_level=True)\n",
        "tokenizer.fit_on_texts(smiles_data)"
      ],
      "execution_count": null,
      "outputs": []
    },
    {
      "cell_type": "code",
      "metadata": {
        "colab": {
          "base_uri": "https://localhost:8080/"
        },
        "id": "lXo66f3gyJTR",
        "outputId": "351af48f-9794-4464-e4c9-a9a49676aef2"
      },
      "source": [
        "print(tokenizer.word_index)"
      ],
      "execution_count": null,
      "outputs": [
        {
          "output_type": "stream",
          "text": [
            "{'c': 1, 'C': 2, '(': 3, ')': 4, '1': 5, 'O': 6, '2': 7, '[': 8, ']': 9, '=': 10, 'N': 11, '3': 12, 'H': 13, '@': 14, 'n': 15, '+': 16, '4': 17, '-': 18, 'l': 19, '/': 20, 'S': 21, 'F': 22, 's': 23, 'o': 24, '#': 25, '\\\\': 26, 'B': 27, 'r': 28, '5': 29, 'I': 30, 'P': 31, '6': 32}\n"
          ],
          "name": "stdout"
        }
      ]
    },
    {
      "cell_type": "code",
      "metadata": {
        "id": "IOftFqsu-wMI"
      },
      "source": [
        "def create_padded_data(smiles_):\n",
        "\n",
        "  \"\"\"\n",
        "  Creates numerical dataset from character sequences and pads up to the max sequence length\n",
        "  Inputs\n",
        "    smiles_(list):  lists of sequences from data\n",
        "  Outputs:\n",
        "    (nd.array):     An array of padded sequences up to max sequence length\n",
        "    max_seq_len (int): length of longest sequence in the data\n",
        "\n",
        "  \"\"\"\n",
        "  \n",
        "  x_sequences = [] \n",
        "  # Loop through each row\n",
        "  for line in smiles_:\n",
        "    token_list = tokenizer.texts_to_sequences([line])[0] #Tokenize each row\n",
        "    x_sequences.append(token_list) # append to x_sequences\n",
        "\n",
        "  # pad sequences \n",
        "  max_seq_len = max([len(x) for x in x_sequences]) # Compute max sequence length\n",
        "\n",
        "  return np.array(pad_sequences(x_sequences, maxlen=max_seq_len, padding='pre')), max_seq_len"
      ],
      "execution_count": null,
      "outputs": []
    },
    {
      "cell_type": "code",
      "metadata": {
        "colab": {
          "base_uri": "https://localhost:8080/"
        },
        "id": "wrM3r-RCx-6Y",
        "outputId": "5846002a-a268-4ad5-f248-09e74bbb8b42"
      },
      "source": [
        "X, max_seq_len = create_padded_data(smiles_data)\n",
        "X[0]"
      ],
      "execution_count": null,
      "outputs": [
        {
          "output_type": "execute_result",
          "data": {
            "text/plain": [
              "array([ 0,  0,  0,  0,  0,  0,  0,  0,  0,  0,  0,  0,  0,  0,  0,  0,  0,\n",
              "        0,  0,  0,  0,  0,  0,  0,  0,  0,  0,  0,  0,  0,  0,  0,  0,  0,\n",
              "        0,  0,  0,  0,  0,  2,  8,  2, 14, 14,  9,  5,  3,  2,  3, 10,  6,\n",
              "        4,  2, 10,  2,  3,  6,  5,  4,  2,  3, 10,  6,  4,  8,  6, 18,  9,\n",
              "        4,  1,  7,  1,  1,  1,  1,  1,  7], dtype=int32)"
            ]
          },
          "metadata": {
            "tags": []
          },
          "execution_count": 12
        }
      ]
    },
    {
      "cell_type": "code",
      "metadata": {
        "id": "vVXZ-AUzyJRJ"
      },
      "source": [
        "latent_dim = 10          # Dimension of latent vector \n",
        "batch_size = 100          # Batch size\n",
        "embedding_dim = 100       # Embedding dimension\n",
        "num_chars = len(tokenizer.word_index)+1 # Compute the number of characters or unique tokens\n",
        "                                        # Add one for padding\n",
        "n_units = 96         #Number of GRU units\n",
        "learning_rate = 0.0002    # Learning rate for optimizer"
      ],
      "execution_count": null,
      "outputs": []
    },
    {
      "cell_type": "code",
      "metadata": {
        "id": "7kVbRboU66S0"
      },
      "source": [
        "dataset = tf.data.Dataset.from_tensor_slices(X)  # Create a tensorflow dataset\n",
        "train_dataset = dataset.batch(batch_size).shuffle(1024) # Add batching and shuffling"
      ],
      "execution_count": null,
      "outputs": []
    },
    {
      "cell_type": "markdown",
      "metadata": {
        "id": "_HkHQgautBBs"
      },
      "source": [
        "[Adversarial autoencoders](https://arxiv.org/pdf/1511.05644.pdf) combines ideas from two main generative models, autoencoders and generative adversarial networks. This idea was originally proposed by Alireza Makhzani et al(2005) and proposed for drug discovery application in the [druGAN](https://pubs.acs.org/doi/abs/10.1021/acs.molpharmaceut.7b00346) paper.\n",
        "\n",
        "![link text](https://pubs.acs.org/na101/home/literatum/publisher/achs/journals/content/mpohbp/2017/mpohbp.2017.14.issue-9/acs.molpharmaceut.7b00346/20170829/images/medium/mp-2017-00346k_0007.gif)\n",
        "\n",
        "Let's dissect the architecture a bit.\n",
        "Just like the usual generative adversarial network, AAEs have a generator and a discriminator.  \n",
        "- The generator is an autoencoder and that means, its made up of an encoder and a decoder. The encoder takes the input data and learns a compressed representation for it. \n",
        "- The decoder of the generator takes the latent code and attempts to reconstruct the original data from it just as the autoencoder does.\n",
        "- The discriminator is a simple network that also makes sure that the latent code learnt by the encoder is from some prior distribution. \n",
        "- For instance, if we want to impose a gaussian distribution on the latent code, we simply sample from the gaussian distribution as a prior. This makes it easy for us to generate data by simply sampling from a gaussian distribution and reconstructing with the decoder.\n",
        "\n",
        "Then the discriminator has the task of detecting whether a given input comes from the prior distribution or from the encoder. This game continues till \n",
        "* the generator's encoder gets better at learning a latent code that comes from the prior distribution\n",
        "- the decoder gets better at reconstructing the data from the input latent code\n",
        "- The discriminator gets better at differentiating between samples that come from the prior and ones that comes from the encoder.\n",
        "\n",
        "\n",
        "\n"
      ]
    },
    {
      "cell_type": "markdown",
      "metadata": {
        "id": "L5iaWw15cxW-"
      },
      "source": [
        "Training the adversarial autoencoder is done in 2 phases; the reconstruction phase and the regularisation phase.\n",
        "\n",
        "- In the reconstruction phase, the generator is trained to minimize reconstruction error.\n",
        "- In the regularization phase, the discriminator is trained to minimize its discriminatory loss and also the encoder is trained to produce a latent code that looks more and more like one that comes from the prior distribution.\n",
        "\n",
        "\n",
        "Now, lets implement the various components of the AAE.\n",
        "- First we create an encoder, a decoder for the generator\n",
        "  - The encoder takes in input SMILES data to produce the latent code\n",
        "  - The decoder accepts the latent code and produces a distribution of the number of unique characters in the SMILES dataset. A decoding strategy is then needed to convert the softmax distribution to text or character sequences. Some of the decoding strategies are: greedy search, beam search, temperature sampling, top-k sampling etc.\n",
        "\n",
        "- Next we create a discriminator.\n",
        "\n",
        "\n",
        "NB: You could replace the autoencoder with a variational autoencoder and in this case the generator will be trained the same way, VAEs are trained with KL objective."
      ]
    },
    {
      "cell_type": "code",
      "metadata": {
        "id": "Sziy523DyJMR",
        "colab": {
          "base_uri": "https://localhost:8080/",
          "height": 416
        },
        "outputId": "2ea584be-772e-4d55-fc8c-107f766a23b3"
      },
      "source": [
        "def encoder_model(num_chars, embedding_dim, max_seq_len, latent_dim, n_units):\n",
        "\n",
        "  '''\n",
        "  Encoder \n",
        "\n",
        "  Inputs\n",
        "    num_chars (int)      : Number of unique characters in dataset\n",
        "    embedding_dim (int)  : Embedding dimension\n",
        "    max_seq_len (int)    : max sequence length\n",
        "    latent_dim (int)     : latent dimension\n",
        "    n_gru_units (int)    : number of gru units\n",
        "\n",
        "  Outputs\n",
        "    (Keras Model Object) : takes data inputs and returns parameters of learned latent distribution \n",
        "  '''\n",
        "\n",
        "  inputs = Input(shape = (max_seq_len, ))\n",
        "  embedding = Embedding(num_chars, embedding_dim, input_length=max_seq_len, mask_zero=True)(inputs)\n",
        "  x = Bidirectional(LSTM(n_units))(embedding)\n",
        "  x = Dense(latent_dim*2, activation='relu')(x)\n",
        "  z = Dense(latent_dim)(x)\n",
        "\n",
        "\n",
        "  # Uncomment this part to do variational \n",
        "  # --------------------------------------\n",
        "  # mu = Dense(latent_dim)(x)\n",
        "  # sigma = Dense(latent_dim)(x)\n",
        "  # model = Model(inputs, outputs = [mu, sigma])\n",
        "\n",
        "  model = Model(inputs, z) # comment out if doing autoencoder\n",
        "  \n",
        "  return model\n",
        "\n",
        "plot_model(encoder_model(num_chars, embedding_dim, max_seq_len, latent_dim, n_units), dpi=70)"
      ],
      "execution_count": null,
      "outputs": [
        {
          "output_type": "execute_result",
          "data": {
            "image/png": "[encoded data removed]",
            "text/plain": [
              "<IPython.core.display.Image object>"
            ]
          },
          "metadata": {
            "tags": []
          },
          "execution_count": 30
        }
      ]
    },
    {
      "cell_type": "code",
      "metadata": {
        "id": "HLN6VvMFyJKL",
        "colab": {
          "base_uri": "https://localhost:8080/",
          "height": 274
        },
        "outputId": "5cc5097b-168d-4435-ec28-7acc2da96795"
      },
      "source": [
        "def decoder_model(num_chars, max_seq_len, latent_dim, n_units):\n",
        "\n",
        "  \"\"\"\n",
        "  Decoder \n",
        "\n",
        "  Inputs\n",
        "    num_chars (int)      : Number of unique characters in dataset\n",
        "    max_seq_len (int)    : max sequence length\n",
        "    latent_dim (int)     : latent dimension\n",
        "    n_gru_units (int)    : number of gru units\n",
        "\n",
        "  Outputs\n",
        "    (Keras Model Object) : takes latent vectors as inputs and returns a \n",
        "                           softmax distribution over character set \n",
        "  \"\"\"\n",
        "\n",
        "  inputs = Input(shape = (latent_dim))\n",
        "  x = RepeatVector(max_seq_len)(inputs)\n",
        "  x = LSTM(n_units, return_sequences=True)(x)\n",
        "  output = TimeDistributed(Dense(num_chars, activation='softmax'))(x)\n",
        "  model = Model(inputs, output)\n",
        "  \n",
        "  return model\n",
        "\n",
        "plot_model(decoder_model(num_chars, max_seq_len, latent_dim, n_units), dpi=70)"
      ],
      "execution_count": null,
      "outputs": [
        {
          "output_type": "execute_result",
          "data": {
            "image/png": "[encoded data removed]",
            "text/plain": [
              "<IPython.core.display.Image object>"
            ]
          },
          "metadata": {
            "tags": []
          },
          "execution_count": 31
        }
      ]
    },
    {
      "cell_type": "code",
      "metadata": {
        "id": "gWoiaAYmyJDi"
      },
      "source": [
        "# Uncomment to do variational\n",
        "\n",
        "# def reparameterize(inputs):\n",
        "\n",
        "  \n",
        "#   \"\"\"\n",
        "#   Reparameterization function--> takes mean and sigma and reparameterize with samples\n",
        "#    drawn from a standard normal distribution with mean 0 and standard deviation 1. \n",
        "\n",
        "#   Inputs:\n",
        "#    (mu, sigma): mean and standard deviation \n",
        "\n",
        "#   Output:\n",
        "#     z (matrix, size (batch_dim, latent_dim)): latent vectors \n",
        "\n",
        "#    \"\"\"\n",
        "#   mu, sigma = inputs\n",
        "#   n_samples = tf.shape(mu)[0]\n",
        "#   dim = tf.shape(mu)[1]\n",
        "#   eps = random_normal((n_samples, dim))\n",
        "  \n",
        "#   return mu + tf.exp(0.5*sigma) * eps"
      ],
      "execution_count": null,
      "outputs": []
    },
    {
      "cell_type": "code",
      "metadata": {
        "id": "BvFTD7kG9dTI"
      },
      "source": [
        "# Uncomment to do variational\n",
        "# def kl_divergence_loss(mu, sigma):\n",
        "  \n",
        "#   \"\"\" \n",
        "#   Computes the Kullback-Leibler Divergence (KLD) loss\n",
        "#   Inputs\n",
        "#     inputs:  batch from the dataset\n",
        "#     outputs: Output from the sample_z function/ layer\n",
        "#     mu:      mean\n",
        "#     sigma:   standard deviation\n",
        "\n",
        "#   Outputs:\n",
        "#     KL Divergence loss\n",
        "#   \"\"\"\n",
        "\n",
        "#   kl_loss = 1 + sigma - tf.square(mu) - tf.math.exp(sigma)\n",
        "#   kl_loss = tf.reduce_mean(kl_loss) * -0.5\n",
        "\n",
        "#   return kl_loss"
      ],
      "execution_count": null,
      "outputs": []
    },
    {
      "cell_type": "code",
      "metadata": {
        "id": "ttPHwNP0V35c"
      },
      "source": [
        "def autoencoder_model(encoder, decoder, max_seq_len):\n",
        "\n",
        "  \n",
        "  \"\"\"\n",
        "  Biulds a complete VAE model\n",
        "\n",
        "  Inputs\n",
        "    encoder: the encoder model\n",
        "    decoder: the decoder model\n",
        "    max_seq_len: length of sequence batch\n",
        "\n",
        "  Output:\n",
        "    the complete VAE model\n",
        "  \"\"\"\n",
        "\n",
        "  # set the inputs\n",
        "  inputs = tf.keras.layers.Input(shape=(max_seq_len, ))\n",
        "\n",
        "  # Uncomment to do variational\n",
        "  # mu, sigma = encoder(inputs)    # get mu and sigma from the encoder output\n",
        "  # z = Lambda(reparameterize)(([mu, sigma]))\n",
        "  z = encoder(inputs)\n",
        "  reconstructed = decoder(z)    # get reconstructed output from the decoder\n",
        "\n",
        "  model = tf.keras.Model(inputs=inputs, outputs=reconstructed) # define the inputs and outputs of the VAE\n",
        "\n",
        "  # add the KL loss\n",
        "  # loss = kl_divergence_loss(mu, sigma)\n",
        "  # model.add_loss(loss)\n",
        "\n",
        "  return model"
      ],
      "execution_count": null,
      "outputs": []
    },
    {
      "cell_type": "code",
      "metadata": {
        "id": "WXEYjYcE8BAp"
      },
      "source": [
        "def generator_model(encoder, discriminator, max_seq_len):\n",
        "\n",
        "  inputs = tf.keras.layers.Input(shape=(max_seq_len, ))\n",
        "  z = encoder(inputs)\n",
        "  disc_pred = discriminator(z)\n",
        "  model = tf.keras.Model(inputs=inputs, outputs=disc_pred) \n",
        "\n",
        "  return model"
      ],
      "execution_count": null,
      "outputs": []
    },
    {
      "cell_type": "code",
      "metadata": {
        "id": "u96_j9mvVJjm"
      },
      "source": [
        "def sample_prior(batch_size, latent_dim):\n",
        "\n",
        "  \"\"\"\n",
        "  Sample prior       :  Sample for random normal distribution\n",
        "  Inputs:\n",
        "    batch_size (int) : number of samples to generate\n",
        "    latent_dim (int) : latent dimension\n",
        "\n",
        "  Outputs\n",
        "    samples from normal distribution (size = (batch_size, latent_dim))\n",
        "  \"\"\"\n",
        "\n",
        "  return random_normal((batch_size, latent_dim))"
      ],
      "execution_count": null,
      "outputs": []
    },
    {
      "cell_type": "code",
      "metadata": {
        "id": "tgYT5T2ct3Q6",
        "colab": {
          "base_uri": "https://localhost:8080/",
          "height": 416
        },
        "outputId": "2c4f6f34-ab35-44ae-9cdc-ddd512f7c24b"
      },
      "source": [
        "def discriminator_model(latent_dim):\n",
        "\n",
        "\n",
        "  \"\"\"\n",
        "  Define discriminator\n",
        "  Inputs\n",
        "    latent_dim: latent dimension\n",
        "\n",
        "  Outputs\n",
        "    discriminator model \n",
        "  \"\"\"\n",
        "\n",
        "\n",
        "  inputs = Input(shape=(latent_dim, ))\n",
        "  x = Dense(64)(inputs)\n",
        "  x = LeakyReLU(alpha=0.2)(x)\n",
        "  x = Dense(32)(x)\n",
        "  x = LeakyReLU(0.2)(x)\n",
        "  outputs = Dense(1, activation=\"sigmoid\")(x)\n",
        "  \n",
        "  model = Model(inputs, outputs)\n",
        "  \n",
        "  return model\n",
        "\n",
        "plot_model(discriminator_model(latent_dim), dpi=70)"
      ],
      "execution_count": null,
      "outputs": [
        {
          "output_type": "execute_result",
          "data": {
            "image/png": "[encoded data removed]",
            "text/plain": [
              "<IPython.core.display.Image object>"
            ]
          },
          "metadata": {
            "tags": []
          },
          "execution_count": 37
        }
      ]
    },
    {
      "cell_type": "markdown",
      "metadata": {
        "id": "yWBf20t4oYFH"
      },
      "source": [
        "Now, lets define our loss functions and optimizers. We can use SGD, Adam or other optimizers. Its great to try things :)\n",
        "- For losses, we use the sparse categorical cross entropy loss for the reconstruction of sparse categorical SMILES inputs and the reconstruction. This will be for the autoencoder (generator). \n",
        "- For the discriminator, we'll use a binary cross entropy loss since the discriminator is only trying to distinguish between two class (fake or real)\n",
        "\n",
        "---\n",
        "\n",
        "\n",
        "\n",
        "---\n",
        "\n"
      ]
    },
    {
      "cell_type": "code",
      "metadata": {
        "id": "D8jnxfBIW-VX"
      },
      "source": [
        "# Define our loss functions and optimizers\n",
        "gen_optimizer = tf.keras.optimizers.Adam(learning_rate=learning_rate)\n",
        "disc_optimizer = tf.keras.optimizers.Adam(learning_rate=learning_rate)\n",
        "ae_optimizer = tf.keras.optimizers.Adam(learning_rate=learning_rate)\n",
        "loss_metric = tf.keras.metrics.Mean()\n",
        "\n",
        "spce_loss = tf.keras.losses.SparseCategoricalCrossentropy()\n",
        "bce_loss = tf.keras.losses.BinaryCrossentropy()"
      ],
      "execution_count": null,
      "outputs": []
    },
    {
      "cell_type": "code",
      "metadata": {
        "id": "cli0o9ODheqA"
      },
      "source": [
        "# Initialize model\n",
        "def init_models(num_chars, embedding_dim, max_seq_len, latent_dim, n_units):\n",
        "  \"\"\"Initialize models \"\"\"\n",
        "  #init encoder & decoder\n",
        "  encoder = encoder_model(num_chars, embedding_dim, max_seq_len, latent_dim, n_units)\n",
        "  decoder = decoder_model(num_chars, max_seq_len, latent_dim, n_units)\n",
        "\n",
        "  # Init discriminator and generator (generator --> discriminator)\n",
        "  discriminator = discriminator_model(latent_dim)\n",
        "  generator = generator_model(encoder, discriminator, max_seq_len)\n",
        "\n",
        "  # Init generator / autoencoder = encoder + decoder\n",
        "  autoencoder = autoencoder_model(encoder, decoder, max_seq_len)\n",
        "\n",
        "  return encoder, decoder, generator, discriminator, autoencoder"
      ],
      "execution_count": null,
      "outputs": []
    },
    {
      "cell_type": "code",
      "metadata": {
        "id": "ZmoutjmxYSOT"
      },
      "source": [
        "encoder, decoder, generator, discriminator, autoencoder = init_models(num_chars, embedding_dim, max_seq_len, latent_dim, n_units)\n",
        "discriminator.trainable = False "
      ],
      "execution_count": null,
      "outputs": []
    },
    {
      "cell_type": "markdown",
      "metadata": {
        "id": "JnjxPAVYp11d"
      },
      "source": [
        "In the training loop, we take a minibatch of the data at a time, sample an equivalent number of samples as the batch of data and update the network parameters alternatingly in the reconstruction and regularization phases. Notice that we set the `discriminator.trainables` to True when training the discriminator and False when training only the generator"
      ]
    },
    {
      "cell_type": "code",
      "metadata": {
        "colab": {
          "base_uri": "https://localhost:8080/"
        },
        "id": "a4XDVewqcdg9",
        "outputId": "41152c58-bbec-46ca-e51f-fc8dc3f01fb5"
      },
      "source": [
        "# Training loop. \n",
        "\n",
        "\n",
        "epochs = 100 # Set the number of training epochs\n",
        "disc_loss = []\n",
        "gen_loss = []\n",
        "avg_recon_loss = []\n",
        "for epoch in range(epochs):\n",
        "  # iterate over the batches of the dataset.\n",
        "  for step, batch in enumerate(train_dataset):\n",
        "\n",
        "    #  RECONSTRUCTION PHASE\n",
        "    # -----------------------------------------------------------------------------------------------------------------\n",
        "    # -----------------------------------------------------------------------------------------------------------------\n",
        "\n",
        "    with tf.GradientTape() as rtape:\n",
        "      noise = tf.random.normal(shape=[batch_size, latent_dim])\n",
        "      generator.trainable = True\n",
        "      # feed a batch to the VAE model\n",
        "      reconstructed = autoencoder(batch)                                             # Get a batch of the training examples and feed to the model\n",
        "    \n",
        "      recon_loss = spce_loss(batch, reconstructed)                                   # compute the reconstruction loss between data and reconstruction\n",
        "      # recon_loss += sum(generator.losses)                                          # add the KL Divergence loss to the reconstruction loss for vae\n",
        "    \n",
        "    recon_grads = rtape.gradient(recon_loss, autoencoder.trainable_weights)          # get the gradients with respect to the weights \n",
        "    ae_optimizer.apply_gradients(zip(recon_grads, autoencoder.trainable_weights))    # Update the weights with gradients\n",
        "\n",
        "    loss_metric(recon_loss) # compute the mean of losses\n",
        "\n",
        "\n",
        "    # REGULARIZATION PHASE\n",
        "    # -----------------------------------------------------------------------------------------------------------------\n",
        "    # -----------------------------------------------------------------------------------------------------------------\n",
        "\n",
        "    # Discriminator Training\n",
        "    with tf.GradientTape() as dtape:\n",
        "      noise = sample_prior(batch_size, latent_dim)                                   # Sample from the prior distribution\n",
        "      # z = encoder(batch)                                                           # Generate the latent distribution with the encoder of the generator\n",
        "      # concat_data = tf.concat([noise, z], axis =0)                                 # Concatenate both the prior distribution and latent \n",
        "      discriminator.trainable = True  \n",
        "                                                                                     # Set discriminator's weights as trainable \n",
        "      latent_pred = generator(batch)\n",
        "      latent_labels = tf.zeros_like(latent_pred)\n",
        "\n",
        "      prior_pred = discriminator(noise)                                              # Predict labels for prior\n",
        "      prior_labels = tf.ones_like(prior_pred)                                        # Make labels for prior\n",
        "      latent_loss = bce_loss(latent_labels, latent_pred)                             # compute crossentropy loss for latent\n",
        "      prior_loss = bce_loss(prior_labels, prior_pred)                                # compute crossentropy loss for prior \n",
        "\n",
        "      disc_loss = (latent_loss + prior_loss)/2\n",
        "\n",
        "    disc_grads = dtape.gradient(disc_loss, discriminator.trainable_weights)          # Compute gradients wrt discriminator weights\n",
        "    disc_optimizer.apply_gradients(zip(disc_grads, discriminator.trainable_weights)) # Update weights\n",
        "\n",
        "    \n",
        "    # Generator training\n",
        "    with tf.GradientTape() as gtape:\n",
        "\n",
        "      discriminator.trainable = False                                                # Set discriminator weights to not trainable  \n",
        "      batch_pred = generator(batch)                                                  # Predict labels for noise\n",
        "      labels = tf.ones_like(batch_pred)                                              # Make labels to fool discriminator\n",
        "      gen_loss = bce_loss(labels, batch_pred)                                        # Get loss from discriminator\n",
        "\n",
        "    gen_grads = gtape.gradient(gen_loss, generator.trainable_weights)\n",
        "    gen_optimizer.apply_gradients(zip(gen_grads, generator.trainable_weights))\n",
        "\n",
        "\n",
        "    # Show outputs at every 50 steps\n",
        "    if step % 50 == 0:\n",
        "      print('Epoch: %s\\t step: %s \\n average recon loss: %s \\t disc loss: %s \\t gen loss: %s' % (epoch, step, loss_metric.result().numpy(), disc_loss.numpy(), gen_loss.numpy()))"
      ],
      "execution_count": null,
      "outputs": [
        {
          "output_type": "stream",
          "text": [
            "Epoch: 0\t step: 0 \n",
            " average recon loss: 3.4974911 \t disc loss: 0.7079675 \t gen loss: 0.6934743\n",
            "Epoch: 0\t step: 50 \n",
            " average recon loss: 2.8911037 \t disc loss: 0.6999729 \t gen loss: 0.61236745\n",
            "Epoch: 1\t step: 0 \n",
            " average recon loss: 2.7160344 \t disc loss: 0.46787906 \t gen loss: 1.1719172\n",
            "Epoch: 1\t step: 50 \n",
            " average recon loss: 2.3852465 \t disc loss: 0.40495592 \t gen loss: 1.4087272\n",
            "Epoch: 2\t step: 0 \n",
            " average recon loss: 2.3235176 \t disc loss: 0.40513408 \t gen loss: 1.29237\n",
            "Epoch: 2\t step: 50 \n",
            " average recon loss: 2.1520147 \t disc loss: 0.51447034 \t gen loss: 0.8620775\n",
            "Epoch: 3\t step: 0 \n",
            " average recon loss: 2.1100712 \t disc loss: 0.5657344 \t gen loss: 0.7221291\n",
            "Epoch: 3\t step: 50 \n",
            " average recon loss: 1.996597 \t disc loss: 0.5972969 \t gen loss: 0.5767285\n",
            "Epoch: 4\t step: 0 \n",
            " average recon loss: 1.9721652 \t disc loss: 0.65518636 \t gen loss: 0.5386651\n",
            "Epoch: 4\t step: 50 \n",
            " average recon loss: 1.8981756 \t disc loss: 0.7795193 \t gen loss: 0.41742885\n",
            "Epoch: 5\t step: 0 \n",
            " average recon loss: 1.8820035 \t disc loss: 0.8133555 \t gen loss: 0.36492974\n",
            "Epoch: 5\t step: 50 \n",
            " average recon loss: 1.8317606 \t disc loss: 0.6473804 \t gen loss: 0.66091293\n",
            "Epoch: 6\t step: 0 \n",
            " average recon loss: 1.8196397 \t disc loss: 0.58586323 \t gen loss: 0.83819455\n",
            "Epoch: 6\t step: 50 \n",
            " average recon loss: 1.7963787 \t disc loss: 0.81886894 \t gen loss: 0.5114985\n",
            "Epoch: 7\t step: 0 \n",
            " average recon loss: 1.7870166 \t disc loss: 0.6826047 \t gen loss: 0.6142771\n",
            "Epoch: 7\t step: 50 \n",
            " average recon loss: 1.7631471 \t disc loss: 0.6606083 \t gen loss: 0.8706831\n",
            "Epoch: 8\t step: 0 \n",
            " average recon loss: 1.7547292 \t disc loss: 0.6201305 \t gen loss: 0.95284605\n",
            "Epoch: 8\t step: 50 \n",
            " average recon loss: 1.7269154 \t disc loss: 0.6124785 \t gen loss: 0.9325473\n",
            "Epoch: 9\t step: 0 \n",
            " average recon loss: 1.7203689 \t disc loss: 0.6078937 \t gen loss: 0.960752\n",
            "Epoch: 9\t step: 50 \n",
            " average recon loss: 1.6975763 \t disc loss: 0.8416256 \t gen loss: 0.41337472\n",
            "Epoch: 10\t step: 0 \n",
            " average recon loss: 1.6906812 \t disc loss: 0.8755626 \t gen loss: 0.41706225\n",
            "Epoch: 10\t step: 50 \n",
            " average recon loss: 1.6721202 \t disc loss: 1.1160471 \t gen loss: 0.30843437\n",
            "Epoch: 11\t step: 0 \n",
            " average recon loss: 1.6680367 \t disc loss: 1.1006896 \t gen loss: 0.3268825\n",
            "Epoch: 11\t step: 50 \n",
            " average recon loss: 1.6542066 \t disc loss: 0.82811856 \t gen loss: 0.6176826\n",
            "Epoch: 12\t step: 0 \n",
            " average recon loss: 1.6514475 \t disc loss: 0.8074103 \t gen loss: 0.6948464\n",
            "Epoch: 12\t step: 50 \n",
            " average recon loss: 1.6399472 \t disc loss: 0.8873035 \t gen loss: 0.5623003\n",
            "Epoch: 13\t step: 0 \n",
            " average recon loss: 1.6383404 \t disc loss: 0.89190793 \t gen loss: 0.5387088\n",
            "Epoch: 13\t step: 50 \n",
            " average recon loss: 1.6287535 \t disc loss: 0.8226514 \t gen loss: 0.6974971\n",
            "Epoch: 14\t step: 0 \n",
            " average recon loss: 1.6250354 \t disc loss: 0.769778 \t gen loss: 0.8184235\n",
            "Epoch: 14\t step: 50 \n",
            " average recon loss: 1.6146747 \t disc loss: 0.8411925 \t gen loss: 0.61115897\n",
            "Epoch: 15\t step: 0 \n",
            " average recon loss: 1.6110235 \t disc loss: 0.82575786 \t gen loss: 0.67185175\n",
            "Epoch: 15\t step: 50 \n",
            " average recon loss: 1.5982038 \t disc loss: 0.7278886 \t gen loss: 0.7664988\n",
            "Epoch: 16\t step: 0 \n",
            " average recon loss: 1.5953411 \t disc loss: 0.6901941 \t gen loss: 0.7765105\n"
          ],
          "name": "stdout"
        }
      ]
    },
    {
      "cell_type": "code",
      "metadata": {
        "id": "VO0tJU3CN4a6"
      },
      "source": [
        "generate_random_smiles(decoder, 10, latent_dim, decoding_strategy='temp', temperature=0.5) # Lets generate some random samples with the trained decoder"
      ],
      "execution_count": null,
      "outputs": []
    },
    {
      "cell_type": "code",
      "metadata": {
        "id": "StlA4mIVX4QN"
      },
      "source": [
        ""
      ],
      "execution_count": null,
      "outputs": []
    }
  ]
}